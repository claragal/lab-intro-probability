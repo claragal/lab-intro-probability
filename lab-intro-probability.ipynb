{
 "cells": [
  {
   "cell_type": "markdown",
   "metadata": {},
   "source": [
    "# Lab | Intro to Probability"
   ]
  },
  {
   "cell_type": "markdown",
   "metadata": {},
   "source": [
    "**Objective**\n",
    "\n",
    "Welcome to this Intro to Probability lab, where we explore decision-making scenarios through the lens of probability and strategic analysis. In the business world, making informed decisions is crucial, especially when faced with uncertainties. This lab focuses on scenarios where probabilistic outcomes play a significant role in shaping strategies and outcomes. Students will engage in exercises that require assessing and choosing optimal paths based on data-driven insights. The goal is to enhance your skills by applying probability concepts to solve real-world problems."
   ]
  },
  {
   "cell_type": "markdown",
   "metadata": {},
   "source": [
    "**Challenge 1**"
   ]
  },
  {
   "cell_type": "markdown",
   "metadata": {},
   "source": [
    "#### Ironhack Airlines \n",
    "\n",
    "Often Airlines sell more tickets than they have seats available, this is called overbooking. Consider the following:\n",
    "- A plane has 450 seats. \n",
    "- Based on historical data we conclude that each individual passenger has a 3% chance of missing it's flight. \n",
    "\n",
    "If the Ironhack Airlines routinely sells 460 tickets, what is the chance that they have a seats for all passenger?"
   ]
  },
  {
   "cell_type": "code",
   "execution_count": 1,
   "metadata": {},
   "outputs": [
    {
     "name": "stdout",
     "output_type": "stream",
     "text": [
      "The probability that there are enough seats for all passengers is: 0.88448\n"
     ]
    }
   ],
   "source": [
    "from scipy.stats import binom\n",
    "# Parameters\n",
    "n = 460  # Tickets sold\n",
    "p = 0.97  # Probability of showing up\n",
    "seats = 450  # Seats available\n",
    "\n",
    "# Probability that 450 or fewer passengers show up\n",
    "probability = binom.cdf(seats, n, p)\n",
    "\n",
    "print(f\"The probability that there are enough seats for all passengers is: {probability:.5f}\")"
   ]
  },
  {
   "cell_type": "markdown",
   "metadata": {},
   "source": [
    "**Challenge 2**"
   ]
  },
  {
   "cell_type": "markdown",
   "metadata": {},
   "source": [
    "#### Ironhack Call Center "
   ]
  },
  {
   "cell_type": "markdown",
   "metadata": {},
   "source": [
    "Suppose a customer service representative at a call center is handling customer complaints. Consider the following:\n",
    "- The probability of successfully resolving a customer complaint on the first attempt is 0.3. \n",
    "\n",
    "\n",
    "What is the probability that the representative needs to make at least three attempts before successfully resolving a customer complaint?"
   ]
  },
  {
   "cell_type": "code",
   "execution_count": 4,
   "metadata": {},
   "outputs": [
    {
     "name": "stdout",
     "output_type": "stream",
     "text": [
      "The probability of needing at least 3 attempts is: 0.49000\n"
     ]
    }
   ],
   "source": [
    "from scipy.stats import geom\n",
    "\n",
    "# Parameters\n",
    "p = 0.3  # Probability of success\n",
    "k = 3    # Minimum number of attempts\n",
    "\n",
    "# Calculate the probability of needing at least k attempts\n",
    "probability = geom.sf(k - 1, p)\n",
    "\n",
    "print(f\"The probability of needing at least {k} attempts is: {probability:.5f}\")"
   ]
  },
  {
   "cell_type": "markdown",
   "metadata": {},
   "source": [
    "**Challenge 3**"
   ]
  },
  {
   "cell_type": "markdown",
   "metadata": {},
   "source": [
    "#### Ironhack Website"
   ]
  },
  {
   "cell_type": "markdown",
   "metadata": {},
   "source": [
    "Consider a scenario related to Ironhack website traffic. Where:\n",
    "- our website takes on average 500 visits per hour.\n",
    "- the website's server is designed to handle up to 550 vists per hour.\n",
    "\n",
    "\n",
    "What is the probability of the website server being overwhelmed?"
   ]
  },
  {
   "cell_type": "code",
   "execution_count": null,
   "metadata": {},
   "outputs": [
    {
     "name": "stdout",
     "output_type": "stream",
     "text": [
      "The probability of the website server being overwhelmed is: 0.01290\n"
     ]
    }
   ],
   "source": [
    "from scipy.stats import poisson\n",
    "\n",
    "# Parameters\n",
    "lambda_visits = 500  # average number of visits per hour\n",
    "x = 550              # the server can handle up to 550 visits\n",
    "\n",
    "# Probability that the server is overwhelmed\n",
    "probability_overwhelmed = 1 - poisson.cdf(x, lambda_visits)\n",
    "\n",
    "print(f\"The probability of the website server being overwhelmed is: {probability_overwhelmed:.5f}\")"
   ]
  },
  {
   "cell_type": "markdown",
   "metadata": {},
   "source": [
    "What is the probability of being overwhelmed at some point during a day? (consider 24hours)"
   ]
  },
  {
   "cell_type": "code",
   "execution_count": 6,
   "metadata": {},
   "outputs": [
    {
     "name": "stdout",
     "output_type": "stream",
     "text": [
      "Probability of the website server being overwhelmed at least once in 24 hours: 0.26770\n"
     ]
    }
   ],
   "source": [
    "# Given values\n",
    "lambda_visits = 500  # average number of visits per hour\n",
    "x = 550              # the server can handle up to 550 visits\n",
    "hours_in_day = 24    # number of hours in a day\n",
    "\n",
    "# Probability of the server being overwhelmed in one hour\n",
    "prob_overwhelmed_one_hour = 1 - poisson.cdf(x, lambda_visits)\n",
    "\n",
    "# Probability of being overwhelmed at least once in 24 hours\n",
    "prob_overwhelmed_at_least_once = 1 - (1 - prob_overwhelmed_one_hour) ** hours_in_day\n",
    "\n",
    "print(f\"Probability of the website server being overwhelmed at least once in 24 hours: {prob_overwhelmed_at_least_once:.5f}\")"
   ]
  },
  {
   "cell_type": "markdown",
   "metadata": {},
   "source": [
    "**Challenge 4**"
   ]
  },
  {
   "cell_type": "markdown",
   "metadata": {},
   "source": [
    "#### Ironhack Helpdesk"
   ]
  },
  {
   "cell_type": "markdown",
   "metadata": {},
   "source": [
    "Consider a scenario related to the time between arrivals of customers at a service desk.\n",
    "\n",
    "On average, a customers arrives every 10minutes.\n",
    "\n",
    "What is the probability that the next customer will arrive within the next 5 minutes?"
   ]
  },
  {
   "cell_type": "code",
   "execution_count": 7,
   "metadata": {},
   "outputs": [
    {
     "name": "stdout",
     "output_type": "stream",
     "text": [
      "Probability that the next customer arrives within the next 5 minutes: 0.3935\n"
     ]
    }
   ],
   "source": [
    "from scipy.stats import expon\n",
    "\n",
    "# Given values\n",
    "lambda_param = 1 / 10  # rate parameter (1/average time)\n",
    "time_interval = 5      # the time interval we are interested in (5 minutes)\n",
    "\n",
    "# Probability that the next customer arrives within 5 minutes\n",
    "probability = expon.cdf(time_interval, scale=1/lambda_param)\n",
    "\n",
    "print(f\"Probability that the next customer arrives within the next 5 minutes: {probability:.4f}\")"
   ]
  },
  {
   "cell_type": "markdown",
   "metadata": {},
   "source": [
    "If there is no customer for 15minutes, employees can have a 5 minutes break.\n",
    "\n",
    "What is the probability an employee taking a break?"
   ]
  },
  {
   "cell_type": "code",
   "execution_count": 8,
   "metadata": {},
   "outputs": [
    {
     "name": "stdout",
     "output_type": "stream",
     "text": [
      "Probability that the employee can take a break (no customer for 15 minutes): 0.2231\n"
     ]
    }
   ],
   "source": [
    "# Given values\n",
    "lambda_param = 1 / 10  # rate parameter (1/average time)\n",
    "time_interval = 15     # the time interval for no customer (15 minutes)\n",
    "\n",
    "# Probability that there is no customer for 15 minutes (employee can take a break)\n",
    "probability_no_customer = 1 - expon.cdf(time_interval, scale=1/lambda_param)\n",
    "\n",
    "print(f\"Probability that the employee can take a break (no customer for 15 minutes): {probability_no_customer:.4f}\")"
   ]
  },
  {
   "cell_type": "markdown",
   "metadata": {},
   "source": [
    "**Challenge 5**"
   ]
  },
  {
   "cell_type": "markdown",
   "metadata": {},
   "source": [
    "The weights of a certain species of birds follow a normal distribution with a mean weight of 150 grams and a standard deviation of 10 grams. \n",
    "\n",
    "- If we randomly select a bird, what is the probability that its weight is between 140 and 160 grams?"
   ]
  },
  {
   "cell_type": "code",
   "execution_count": 9,
   "metadata": {},
   "outputs": [
    {
     "name": "stdout",
     "output_type": "stream",
     "text": [
      "The probability that a randomly selected bird's weight is between 140 and 160 grams is: 0.6827\n"
     ]
    }
   ],
   "source": [
    "from scipy.stats import norm\n",
    "\n",
    "# Given values\n",
    "mean = 150  # mean weight in grams\n",
    "std_dev = 10  # standard deviation in grams\n",
    "\n",
    "# Calculate the probability P(140 <= X <= 160)\n",
    "prob_140_160 = norm.cdf(160, loc=mean, scale=std_dev) - norm.cdf(140, loc=mean, scale=std_dev)\n",
    "\n",
    "print(f\"The probability that a randomly selected bird's weight is between 140 and 160 grams is: {prob_140_160:.4f}\")"
   ]
  },
  {
   "cell_type": "markdown",
   "metadata": {},
   "source": [
    "**Challenge 6**"
   ]
  },
  {
   "cell_type": "markdown",
   "metadata": {},
   "source": [
    "If the lifetime (in hours) of a certain electronic component follows an exponential distribution with a mean lifetime of 50 hours, what is the probability that the component fails within the first 30 hours?"
   ]
  },
  {
   "cell_type": "code",
   "execution_count": null,
   "metadata": {},
   "outputs": [
    {
     "name": "stdout",
     "output_type": "stream",
     "text": [
      "Probability that the component fails within 30 hours: 0.4512\n"
     ]
    }
   ],
   "source": [
    "#Parameters\n",
    "lambda_mean_lifetime = 50\n",
    "time_interval = 30\n",
    "\n",
    "# Probability that the component fails within the first 30 hours\n",
    "probability = expon.cdf(time_interval, scale=lambda_mean_lifetime)\n",
    "print(f\"Probability that the component fails within 30 hours: {probability:.4f}\")\n"
   ]
  }
 ],
 "metadata": {
  "kernelspec": {
   "display_name": "Python 3",
   "language": "python",
   "name": "python3"
  },
  "language_info": {
   "codemirror_mode": {
    "name": "ipython",
    "version": 3
   },
   "file_extension": ".py",
   "mimetype": "text/x-python",
   "name": "python",
   "nbconvert_exporter": "python",
   "pygments_lexer": "ipython3",
   "version": "3.12.7"
  }
 },
 "nbformat": 4,
 "nbformat_minor": 2
}
